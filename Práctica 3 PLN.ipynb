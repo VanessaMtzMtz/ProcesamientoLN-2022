{
 "cells": [
  {
   "cell_type": "markdown",
   "metadata": {},
   "source": [
    "<h1> Práctica 3: Generación de texto </h1>"
   ]
  },
  {
   "cell_type": "markdown",
   "metadata": {},
   "source": [
    "## Procesamiento de lenguaje Natural"
   ]
  },
  {
   "cell_type": "markdown",
   "metadata": {},
   "source": [
    "### Facultad de Ingeniería UNAM "
   ]
  },
  {
   "cell_type": "markdown",
   "metadata": {},
   "source": [
    "#### Por: Aguilar Torres Karla Daniela, Lara Sala Kevin Arturo y Martínez Martínez Vanessa"
   ]
  },
  {
   "cell_type": "markdown",
   "metadata": {},
   "source": [
    "En esta ocasión se busca generar un texto que cumpla la Ley de Zipf ayudandonos de los ejemplos vistos en clase. Es importante mencionar que para su realización nos basamos en el notebook visto en clase, elaborado por el profesor Victor Mijangos, en el curso de Procesamiento del Lenguaje Natural"
   ]
  },
  {
   "cell_type": "markdown",
   "metadata": {},
   "source": [
    "Librerías a utilizar:"
   ]
  },
  {
   "cell_type": "code",
   "execution_count": 2,
   "metadata": {},
   "outputs": [],
   "source": [
    "import numpy as np\n",
    "import pandas as pd\n",
    "import nltk\n",
    "import matplotlib.pyplot as plt\n",
    "from operator import itemgetter\n",
    "from collections import Counter\n",
    "from nltk.corpus import brown"
   ]
  },
  {
   "cell_type": "markdown",
   "metadata": {},
   "source": [
    "Descargar el corpus y pasarlo a minúsculas "
   ]
  },
  {
   "cell_type": "code",
   "execution_count": 7,
   "metadata": {},
   "outputs": [],
   "source": [
    "#Se genera el corpus, a partir de la libería brown.\n",
    "palab = list(brown.words())\n",
    "#Se pasa el corpus a minúsculas.\n",
    "palab = [w.lower() for w in palab]\n",
    "#Se limpia el corpus, eliminando signos y stopwords.\n",
    "palab = [i for i in palab if i.isalpha()]"
   ]
  },
  {
   "cell_type": "markdown",
   "metadata": {},
   "source": [
    "Obtenemos sus frecuencias"
   ]
  },
  {
   "cell_type": "code",
   "execution_count": 9,
   "metadata": {},
   "outputs": [],
   "source": [
    "#Se obtiene el número de palabras.\n",
    "palab_frec = Counter(palab)"
   ]
  },
  {
   "cell_type": "markdown",
   "metadata": {},
   "source": [
    "Las ordenamos de mayor a menor"
   ]
  },
  {
   "cell_type": "code",
   "execution_count": 10,
   "metadata": {},
   "outputs": [],
   "source": [
    "palab_frec = sorted(palab_frec.items(), key=itemgetter(1), reverse=True)\n",
    "\n",
    "frec = np.array([pair[1] for pair in palab_frec])"
   ]
  },
  {
   "cell_type": "markdown",
   "metadata": {},
   "source": [
    "Número de tipos N"
   ]
  },
  {
   "cell_type": "code",
   "execution_count": 11,
   "metadata": {},
   "outputs": [],
   "source": [
    "N = len(frec)"
   ]
  },
  {
   "cell_type": "markdown",
   "metadata": {},
   "source": [
    "Obtenemos los rangos y logaritmos"
   ]
  },
  {
   "cell_type": "code",
   "execution_count": 12,
   "metadata": {},
   "outputs": [],
   "source": [
    "rang = np.array(range(1,N+1)) \n",
    "log_frec = np.log(frec)\n",
    "log_rang = np.log(rang)"
   ]
  },
  {
   "cell_type": "markdown",
   "metadata": {},
   "source": [
    "Los datos seguirán una distribución Zipf, aproximada por una línea recta con pendiente negativa"
   ]
  },
  {
   "cell_type": "markdown",
   "metadata": {},
   "source": [
    "Rangos y frecuencias. Con la librería de pandas para estimar las desviaciones estándar y la correlación de Pearson"
   ]
  },
  {
   "cell_type": "code",
   "execution_count": 13,
   "metadata": {},
   "outputs": [],
   "source": [
    "rang_data = pd.DataFrame(data=log_rang, columns=['log rangos'])\n",
    "frec_data = pd.DataFrame(data=log_frec, columns=['log frecuencias'])\n",
    "param = frec_data.join(rang_data)"
   ]
  },
  {
   "cell_type": "markdown",
   "metadata": {},
   "source": [
    "Estimación del parámetro de acuerdo a su fórmula "
   ]
  },
  {
   "cell_type": "code",
   "execution_count": 14,
   "metadata": {},
   "outputs": [
    {
     "name": "stdout",
     "output_type": "stream",
     "text": [
      "-0.9856023874236124\n"
     ]
    }
   ],
   "source": [
    "est_par = float(rang_data.std())/float(rang_data.std())\n",
    "a = float(param.corr()['log rangos']['log frecuencias'])*est_par\n",
    "print(a)"
   ]
  },
  {
   "cell_type": "markdown",
   "metadata": {},
   "source": [
    "A continuación pasamos a la generación de texto por medio de la función de probabilidad de zipf"
   ]
  },
  {
   "cell_type": "code",
   "execution_count": 15,
   "metadata": {},
   "outputs": [
    {
     "name": "stdout",
     "output_type": "stream",
     "text": [
      "0.9999999999999999\n"
     ]
    }
   ],
   "source": [
    "fp = rang**a\n",
    "prob = fp/fp.sum(0)\n",
    "\n",
    "print(prob.sum(0))"
   ]
  },
  {
   "cell_type": "markdown",
   "metadata": {},
   "source": [
    "De acuerdo con esta probabilidad, podemos usar tantas palabras como sea posible para componer un texto. Sin embargo, tal distribución estimada aumenta la independencia de cada palabra."
   ]
  },
  {
   "cell_type": "code",
   "execution_count": 16,
   "metadata": {},
   "outputs": [
    {
     "name": "stdout",
     "output_type": "stream",
     "text": [
      "my usga thereof the before part train go lets deluxer factory the wod industry have nearly was behalf just playmate when tell sustain carefully been the week fromm i the sum already seizure radic make the remaining like my elaine a be quicken byzantine the the aerospace very versatile a dark triplets expunging means june embroidered pati stood of offering the of favorable of account each own all the of but work thoughtfully that field the applicants haney he was sir knife engine turn say of him expedition which a peas found project day had circle the stopped as fords\n"
     ]
    }
   ],
   "source": [
    "palab_prob = np.random.choice([pair[0] for pair in palab_frec], size=100, p=prob)\n",
    "\n",
    "palab_gen = ' '.join(palab_prob)\n",
    "print(palab_gen)"
   ]
  },
  {
   "cell_type": "markdown",
   "metadata": {},
   "source": [
    "Por lo tanto el texto ahora cumple la distibución"
   ]
  },
  {
   "cell_type": "markdown",
   "metadata": {},
   "source": [
    "Ordenar frecuencias del texto "
   ]
  },
  {
   "cell_type": "code",
   "execution_count": 18,
   "metadata": {},
   "outputs": [
    {
     "data": {
      "image/png": "[encoded data removed]",
      "text/plain": [
       "<Figure size 432x288 with 1 Axes>"
      ]
     },
     "metadata": {
      "needs_background": "light"
     },
     "output_type": "display_data"
    }
   ],
   "source": [
    "freqs_gen = Counter(palab_prob)\n",
    "gen_zipf = np.array(sorted(freqs_gen.values(), reverse=True))\n",
    "\n",
    "plt.plot(gen_zipf, 'o')\n",
    "plt.xscale('log')\n",
    "plt.yscale('log')\n",
    "plt.xlabel('rango')\n",
    "plt.ylabel('frecuencia')\n",
    "plt.title('Distribución en corpus generado con Zipf')\n",
    "plt.show()"
   ]
  }
 ],
 "metadata": {
  "kernelspec": {
   "display_name": "Python 3",
   "language": "python",
   "name": "python3"
  },
  "language_info": {
   "codemirror_mode": {
    "name": "ipython",
    "version": 3
   },
   "file_extension": ".py",
   "mimetype": "text/x-python",
   "name": "python",
   "nbconvert_exporter": "python",
   "pygments_lexer": "ipython3",
   "version": "3.8.10"
  }
 },
 "nbformat": 4,
 "nbformat_minor": 5
}
